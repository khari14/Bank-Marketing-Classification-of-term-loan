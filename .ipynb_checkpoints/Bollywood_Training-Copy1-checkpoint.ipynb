{
 "cells": [
  {
   "cell_type": "code",
   "execution_count": 7,
   "metadata": {},
   "outputs": [],
   "source": [
    "import pandas as pd\n",
    "import numpy as np\n",
    "csv=pd.read_csv('C:\\\\Users\\\\hari1\\\\OneDrive\\\\Datasets\\\\CSV\\\\bollywood.csv')\n",
    "bollywood=pd.DataFrame(csv)"
   ]
  },
  {
   "cell_type": "code",
   "execution_count": 8,
   "metadata": {},
   "outputs": [
    {
     "data": {
      "text/html": [
       "<div>\n",
       "<style>\n",
       "    .dataframe thead tr:only-child th {\n",
       "        text-align: right;\n",
       "    }\n",
       "\n",
       "    .dataframe thead th {\n",
       "        text-align: left;\n",
       "    }\n",
       "\n",
       "    .dataframe tbody tr th {\n",
       "        vertical-align: top;\n",
       "    }\n",
       "</style>\n",
       "<table border=\"1\" class=\"dataframe\">\n",
       "  <thead>\n",
       "    <tr style=\"text-align: right;\">\n",
       "      <th></th>\n",
       "      <th>Movie</th>\n",
       "      <th>Lead</th>\n",
       "      <th>Rdate</th>\n",
       "      <th>Ocollection</th>\n",
       "      <th>Wcollection</th>\n",
       "      <th>Fwcollection</th>\n",
       "      <th>Tcollection</th>\n",
       "      <th>Verdict</th>\n",
       "    </tr>\n",
       "  </thead>\n",
       "  <tbody>\n",
       "    <tr>\n",
       "      <th>0</th>\n",
       "      <td>Dangal</td>\n",
       "      <td>Aamir</td>\n",
       "      <td>23-Dec-16</td>\n",
       "      <td>29.78</td>\n",
       "      <td>106.95</td>\n",
       "      <td>197.53</td>\n",
       "      <td>386.68</td>\n",
       "      <td>Super Hit</td>\n",
       "    </tr>\n",
       "    <tr>\n",
       "      <th>1</th>\n",
       "      <td>Wajah Tum Ho</td>\n",
       "      <td>Sharman</td>\n",
       "      <td>16-Dec-16</td>\n",
       "      <td>2.86</td>\n",
       "      <td>7.79</td>\n",
       "      <td>10.29</td>\n",
       "      <td>10.29</td>\n",
       "      <td>Flop</td>\n",
       "    </tr>\n",
       "    <tr>\n",
       "      <th>2</th>\n",
       "      <td>Befikre</td>\n",
       "      <td>Ranveer</td>\n",
       "      <td>09-Dec-16</td>\n",
       "      <td>10.36</td>\n",
       "      <td>34.36</td>\n",
       "      <td>48.75</td>\n",
       "      <td>59.30</td>\n",
       "      <td>Average</td>\n",
       "    </tr>\n",
       "    <tr>\n",
       "      <th>3</th>\n",
       "      <td>Kahaani 2</td>\n",
       "      <td>Vidya</td>\n",
       "      <td>02-Dec-16</td>\n",
       "      <td>4.25</td>\n",
       "      <td>16.97</td>\n",
       "      <td>24.26</td>\n",
       "      <td>30.56</td>\n",
       "      <td>Average</td>\n",
       "    </tr>\n",
       "    <tr>\n",
       "      <th>4</th>\n",
       "      <td>Dear Zindagi</td>\n",
       "      <td>Shahrukh</td>\n",
       "      <td>25-Nov-16</td>\n",
       "      <td>8.75</td>\n",
       "      <td>32.50</td>\n",
       "      <td>47.00</td>\n",
       "      <td>64.44</td>\n",
       "      <td>Hit</td>\n",
       "    </tr>\n",
       "  </tbody>\n",
       "</table>\n",
       "</div>"
      ],
      "text/plain": [
       "          Movie      Lead      Rdate  Ocollection  Wcollection  Fwcollection  \\\n",
       "0        Dangal     Aamir  23-Dec-16        29.78       106.95        197.53   \n",
       "1  Wajah Tum Ho   Sharman  16-Dec-16         2.86         7.79         10.29   \n",
       "2       Befikre   Ranveer  09-Dec-16        10.36        34.36         48.75   \n",
       "3     Kahaani 2     Vidya  02-Dec-16         4.25        16.97         24.26   \n",
       "4  Dear Zindagi  Shahrukh  25-Nov-16         8.75        32.50         47.00   \n",
       "\n",
       "   Tcollection    Verdict  \n",
       "0       386.68  Super Hit  \n",
       "1        10.29       Flop  \n",
       "2        59.30    Average  \n",
       "3        30.56    Average  \n",
       "4        64.44        Hit  "
      ]
     },
     "execution_count": 8,
     "metadata": {},
     "output_type": "execute_result"
    }
   ],
   "source": [
    "bollywood.head()"
   ]
  },
  {
   "cell_type": "code",
   "execution_count": 14,
   "metadata": {},
   "outputs": [
    {
     "data": {
      "text/plain": [
       "3"
      ]
     },
     "execution_count": 14,
     "metadata": {},
     "output_type": "execute_result"
    }
   ],
   "source": [
    "na_bollywood=bollywood.isnull().sum().sum()"
   ]
  },
  {
   "cell_type": "code",
   "execution_count": 32,
   "metadata": {},
   "outputs": [],
   "source": [
    "bollywood['tot_col']= bollywood['Ocollection']+bollywood['Wcollection']+bollywood['Fwcollection']+bollywood['Tcollection']\n",
    "#bollywood.groupby(['Movie','tot_col'], as_index=False)['Movie'].max(bollywood['tot_col'])\n",
    "top_movie = bollywood.loc[bollywood['tot_col'].idxmax()].iloc[0]"
   ]
  },
  {
   "cell_type": "code",
   "execution_count": 42,
   "metadata": {},
   "outputs": [
    {
     "data": {
      "text/plain": [
       "25"
      ]
     },
     "execution_count": 42,
     "metadata": {},
     "output_type": "execute_result"
    }
   ],
   "source": [
    "#top_movie\n",
    "bollywood['tot_col'].idxmax()"
   ]
  },
  {
   "cell_type": "code",
   "execution_count": 58,
   "metadata": {},
   "outputs": [
    {
     "data": {
      "text/plain": [
       "'Dangal'"
      ]
     },
     "execution_count": 58,
     "metadata": {},
     "output_type": "execute_result"
    }
   ],
   "source": [
    "des=bollywood['tot_col'].sort_values(axis=0, ascending=False).index[1]\n",
    "top_2_movie = bollywood.loc[des].iloc[0]\n",
    "#top_movie = bollywood.loc[des[1]].iloc[0]\n",
    "\n",
    "top_2_movie\n",
    "#idx = bollywood.loc[].iloc[1]"
   ]
  },
  {
   "cell_type": "code",
   "execution_count": 54,
   "metadata": {},
   "outputs": [
    {
     "data": {
      "text/plain": [
       "0"
      ]
     },
     "execution_count": 54,
     "metadata": {},
     "output_type": "execute_result"
    }
   ],
   "source": []
  },
  {
   "cell_type": "code",
   "execution_count": null,
   "metadata": {
    "collapsed": true
   },
   "outputs": [],
   "source": []
  }
 ],
 "metadata": {
  "kernelspec": {
   "display_name": "Python 3",
   "language": "python",
   "name": "python3"
  },
  "language_info": {
   "codemirror_mode": {
    "name": "ipython",
    "version": 3
   },
   "file_extension": ".py",
   "mimetype": "text/x-python",
   "name": "python",
   "nbconvert_exporter": "python",
   "pygments_lexer": "ipython3",
   "version": "3.6.2"
  }
 },
 "nbformat": 4,
 "nbformat_minor": 2
}
