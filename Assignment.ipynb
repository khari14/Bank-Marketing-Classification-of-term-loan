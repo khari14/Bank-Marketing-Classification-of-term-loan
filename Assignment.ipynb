{
 "cells": [
  {
   "cell_type": "code",
   "execution_count": 38,
   "metadata": {
    "collapsed": true
   },
   "outputs": [],
   "source": [
    "import numpy as np \n",
    "import pandas as pd\n",
    "import matplotlib.pyplot as plt\n",
    "import math"
   ]
  },
  {
   "cell_type": "code",
   "execution_count": 39,
   "metadata": {},
   "outputs": [
    {
     "name": "stdout",
     "output_type": "stream",
     "text": [
      "      ip1  ip2  ip3  ip4  op1  op2\n",
      "test                              \n",
      "T1     10  100    5  1.0  100   30\n",
      "T2     12  100    6  0.9  111   33\n",
      "T3     10  120    5  1.1  123   32\n",
      "T4     10  160    6  1.0  100   28\n"
     ]
    }
   ],
   "source": [
    "#Assignment 1\n",
    "Data=pd.read_csv('E:\\\\Assignment\\\\actual.csv',index_col='test') #reading data into dataframe using pandas\n",
    "print(Data)\n",
    "x=[0,1,2,3] \n",
    "y1=Data.op1\n",
    "y2=Data.op2"
   ]
  },
  {
   "cell_type": "code",
   "execution_count": 40,
   "metadata": {},
   "outputs": [
    {
     "data": {
      "image/png": "[encoded data removed]",
      "text/plain": [
       "<matplotlib.figure.Figure at 0x4503908748>"
      ]
     },
     "metadata": {},
     "output_type": "display_data"
    }
   ],
   "source": [
    "plt.plot(x,y1,marker='o',linestyle='dashed') #plotting for output1\n",
    "plt.xticks(x,Data.index)\n",
    "plt.xlabel('test',fontsize='large')\n",
    "plt.ylabel('op1',fontsize='large')\n",
    "plt.show()"
   ]
  },
  {
   "cell_type": "code",
   "execution_count": 41,
   "metadata": {},
   "outputs": [
    {
     "data": {
      "image/png": "[encoded data removed]",
      "text/plain": [
       "<matplotlib.figure.Figure at 0x45037b46d8>"
      ]
     },
     "metadata": {},
     "output_type": "display_data"
    }
   ],
   "source": [
    "plt.plot(x,y2,marker='o',linestyle='dashed') #plotting for output2\n",
    "plt.xticks(x,Data.index)\n",
    "plt.xlabel('test',fontsize='large')\n",
    "plt.ylabel('op2',fontsize='large')\n",
    "plt.show()"
   ]
  },
  {
   "cell_type": "code",
   "execution_count": 42,
   "metadata": {},
   "outputs": [
    {
     "name": "stdout",
     "output_type": "stream",
     "text": [
      "      ip1  ip2  ip3  ip4\n",
      "test                    \n",
      "T1     10  100    5  1.0\n",
      "T2     12  100    6  0.9\n",
      "T3     10  120    5  1.1\n",
      "T4     10  160    6  1.0\n"
     ]
    }
   ],
   "source": [
    "new=Data.iloc[:,:4] #selecting only input columns\n",
    "print(new)"
   ]
  },
  {
   "cell_type": "code",
   "execution_count": 43,
   "metadata": {},
   "outputs": [
    {
     "name": "stdout",
     "output_type": "stream",
     "text": [
      "     T2-T1  T3-T2  T4-T3\n",
      "ip1    2.0   -2.0    0.0\n",
      "ip2    0.0   20.0   40.0\n",
      "ip3    1.0   -1.0    1.0\n",
      "ip4   -0.1    0.2   -0.1\n"
     ]
    }
   ],
   "source": [
    "e=[] #creating empty list\n",
    "value=len(new.columns)-1\n",
    "for i in range(value): # subracting columns in loop\n",
    "    d=new.iloc[i+1,:]-new.iloc[i,:]\n",
    "    e.append(d)\n",
    "df=pd.DataFrame(e,index=['T2-T1','T3-T2','T4-T3']) #converting list to data frame\n",
    "output=df.transpose()\n",
    "print(output)"
   ]
  },
  {
   "cell_type": "code",
   "execution_count": null,
   "metadata": {
    "collapsed": true
   },
   "outputs": [],
   "source": []
  },
  {
   "cell_type": "code",
   "execution_count": 44,
   "metadata": {
    "collapsed": true
   },
   "outputs": [],
   "source": [
    "#Assignment 2"
   ]
  },
  {
   "cell_type": "code",
   "execution_count": 45,
   "metadata": {},
   "outputs": [
    {
     "name": "stdout",
     "output_type": "stream",
     "text": [
      "Mean:                     22.357143\n",
      "Median:                   11.500000\n",
      "Standard Deviation:       25.797583\n"
     ]
    }
   ],
   "source": [
    "list=[3,4,9,6,76,12,43,41,0,3,5,11,22,78] #creating a list and considering it as population\n",
    "sum=0\n",
    "for i in list:\n",
    "    sum=sum+i\n",
    "    mean=sum/len(list)\n",
    "list.sort()\n",
    "med_idx=(len(list)+1)/2\n",
    "if((len(list))%2==0):\n",
    "    median=(list[int(med_idx)]+list[int(med_idx)+1])/2\n",
    "else:\n",
    "    median=(list[int(med_idx)]) \n",
    "tss=0\n",
    "for i in list:\n",
    "    diff=i-mean\n",
    "    sq=diff**2\n",
    "    tss=tss+sq\n",
    "Variance=tss/len(list)\n",
    "std=np.sqrt(tss/len(list))\n",
    "print(\"Mean:                     %2f\"%mean)\n",
    "print(\"Median:                   %2f\"%median)\n",
    "print(\"Standard Deviation:       %2f\"%std)"
   ]
  },
  {
   "cell_type": "code",
   "execution_count": null,
   "metadata": {
    "collapsed": true
   },
   "outputs": [],
   "source": []
  },
  {
   "cell_type": "code",
   "execution_count": 46,
   "metadata": {
    "collapsed": true
   },
   "outputs": [],
   "source": [
    "#Assignment 3"
   ]
  },
  {
   "cell_type": "code",
   "execution_count": 48,
   "metadata": {},
   "outputs": [
    {
     "name": "stdout",
     "output_type": "stream",
     "text": [
      "Input Radius of Circle:-4\n",
      "Area=-1\n"
     ]
    }
   ],
   "source": [
    "def R(r):#Function to define area of a circle\n",
    "    area = r**2 * math.pi\n",
    "    return area\n",
    " \n",
    "radius=input(\"Input Radius of Circle:\")\n",
    "r=float(radius)\n",
    "if r>=0:\n",
    "    print(\"Area of circle=\",R(r))\n",
    "else:\n",
    "    print(\"Area=-1\")\n",
    "\n"
   ]
  },
  {
   "cell_type": "code",
   "execution_count": null,
   "metadata": {
    "collapsed": true
   },
   "outputs": [],
   "source": []
  }
 ],
 "metadata": {
  "kernelspec": {
   "display_name": "Python 3",
   "language": "python",
   "name": "python3"
  },
  "language_info": {
   "codemirror_mode": {
    "name": "ipython",
    "version": 3
   },
   "file_extension": ".py",
   "mimetype": "text/x-python",
   "name": "python",
   "nbconvert_exporter": "python",
   "pygments_lexer": "ipython3",
   "version": "3.6.1"
  }
 },
 "nbformat": 4,
 "nbformat_minor": 2
}
